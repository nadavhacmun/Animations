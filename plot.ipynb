{
 "cells": [
  {
   "cell_type": "code",
   "execution_count": 1,
   "metadata": {},
   "outputs": [],
   "source": [
    "import os\n",
    "import glob\n",
    "import time\n",
    "import numpy as np \n",
    "import cv2\n",
    "import matplotlib\n",
    "import matplotlib.pyplot as plt \n",
    "import matplotlib.image as mpimg\n",
    "from matplotlib.pyplot import figure\n",
    "from PIL import Image"
   ]
  },
  {
   "cell_type": "code",
   "execution_count": 2,
   "metadata": {},
   "outputs": [],
   "source": [
    "def get_closest(y, y_space):\n",
    "    _min = None\n",
    "    min_index = None\n",
    "    for index, y_ in enumerate(y_space):\n",
    "        if index == 0:\n",
    "            _min = np.abs(y_ - y)\n",
    "            min_index = index\n",
    "        else:\n",
    "            tmp = np.abs(y_ - y)\n",
    "            if _min > tmp:\n",
    "                _min = tmp\n",
    "                min_index = index\n",
    "    \n",
    "    return min_index"
   ]
  },
  {
   "cell_type": "code",
   "execution_count": 3,
   "metadata": {},
   "outputs": [],
   "source": [
    "def make_img(min_x, max_x, min_y, max_y, x_pixels, function):\n",
    "    dx = max_x - min_x\n",
    "    dy = max_y - min_y\n",
    "    \n",
    "    ratio = float(dx)/dy\n",
    "    \n",
    "    # init x space and y space\n",
    "    x_space = np.linspace(min_x, max_x, x_pixels)\n",
    "    y_space = np.linspace(min_y, max_y, int(x_pixels / ratio))\n",
    "    \n",
    "    # init img\n",
    "    img = np.zeros((len(y_space), len(x_space)), dtype=np.float32)\n",
    "    \n",
    "    for index, x in enumerate(x_space):\n",
    "        y = function(x)\n",
    "        img[len(y_space) - (1 + get_closest(y, y_space))][index] = 255\n",
    "    \n",
    "    return img"
   ]
  },
  {
   "cell_type": "code",
   "execution_count": 4,
   "metadata": {},
   "outputs": [
    {
     "data": {
      "text/plain": [
       "<matplotlib.image.AxesImage at 0x25a43286780>"
      ]
     },
     "execution_count": 4,
     "metadata": {},
     "output_type": "execute_result"
    },
    {
     "data": {
      "image/png": "[encoded data removed]",
      "text/plain": [
       "<Figure size 720x720 with 1 Axes>"
      ]
     },
     "metadata": {
      "needs_background": "light"
     },
     "output_type": "display_data"
    }
   ],
   "source": [
    "img = make_img(-5, 3, -7, 5, 600, lambda x: np.exp(x)/np.sin(x))\n",
    "plt.figure(figsize=(10, 10))\n",
    "plt.imshow(img, cmap=\"gray\")"
   ]
  },
  {
   "cell_type": "code",
   "execution_count": 48,
   "metadata": {},
   "outputs": [],
   "source": [
    "save_img(img, \"tanh\")"
   ]
  },
  {
   "cell_type": "markdown",
   "metadata": {},
   "source": [
    "## Making animations\n",
    "___"
   ]
  },
  {
   "cell_type": "code",
   "execution_count": 5,
   "metadata": {},
   "outputs": [],
   "source": [
    "import moviepy.editor as mvpy"
   ]
  },
  {
   "cell_type": "code",
   "execution_count": 6,
   "metadata": {},
   "outputs": [],
   "source": [
    "def FunctionList(min_x, max_x, min_y, max_y, x_pixels, function, mod=1, width=1):\n",
    "    dx = max_x - min_x\n",
    "    dy = max_y - min_y\n",
    "    \n",
    "    ratio = float(dx)/dy\n",
    "    \n",
    "    # init x space and y space\n",
    "    x_space = np.linspace(min_x, max_x, x_pixels)\n",
    "    y_space = np.linspace(min_y, max_y, int(x_pixels / ratio))\n",
    "    \n",
    "    # init img\n",
    "    img = np.zeros((len(y_space), len(x_space)), dtype=np.float32)\n",
    "    \n",
    "    order = [] # list to keep track of order of images in the video we will create\n",
    "    for index, x in enumerate(x_space):\n",
    "        if (index % mod) == 0: # take img every mod pixels\n",
    "            y = function(x) \n",
    "            img[len(y_space) - (1 + get_closest(y, y_space))][index] = 255 # light up image at correct spot\n",
    "            cv2.imwrite(\"./data/img-{}.jpg\".format(index), np.dstack([img, img, img])) # write image to folder\n",
    "            order.append(\"./data/img-{}.jpg\".format(index)) # add image name to order list\n",
    "    \n",
    "    return order\n",
    "\n",
    "def makeAnimation(min_x, max_x, min_y, max_y, x_pixels, function, fps, fname, mod):\n",
    "    d = []\n",
    "    order = FunctionList(min_x, max_x, min_y, max_y, x_pixels, function, mod)\n",
    "        \n",
    "    clip = mvpy.ImageSequenceClip(order, fps=fps) # make clip object\n",
    "    clip.write_videofile(fname, fps=fps) # write it to disk"
   ]
  },
  {
   "cell_type": "code",
   "execution_count": 16,
   "metadata": {},
   "outputs": [],
   "source": [
    "order = []\n",
    "i = 0\n",
    "while (i < 1000):\n",
    "    order.append(\"./data/img-{}.jpg\".format(i))\n",
    "    i += 3"
   ]
  },
  {
   "cell_type": "code",
   "execution_count": 12,
   "metadata": {},
   "outputs": [
    {
     "name": "stdout",
     "output_type": "stream",
     "text": [
      "Moviepy - Building video wave.mp4.\n",
      "Moviepy - Writing video wave.mp4\n",
      "\n"
     ]
    },
    {
     "name": "stderr",
     "output_type": "stream",
     "text": []
    },
    {
     "name": "stdout",
     "output_type": "stream",
     "text": [
      "Moviepy - Done !\n",
      "Moviepy - video ready wave.mp4\n"
     ]
    }
   ],
   "source": [
    "makeAnimation(-5, 5, -1.2, 1.2, 2500, lambda x: np.sin((x**2)-1)*np.cos(1.4+2*x)*np.sin(2.2+0.3*x), 150, \"wave.mp4\", 3)"
   ]
  },
  {
   "cell_type": "code",
   "execution_count": 14,
   "metadata": {},
   "outputs": [],
   "source": [
    "for path in glob.glob(\"./data/*\"):\n",
    "    os.unlink(path)"
   ]
  },
  {
   "cell_type": "code",
   "execution_count": 22,
   "metadata": {},
   "outputs": [],
   "source": [
    "clip = mvpy.ImageSequenceClip(order, fps=70, load_images=True) # make clip object"
   ]
  },
  {
   "cell_type": "code",
   "execution_count": 23,
   "metadata": {},
   "outputs": [
    {
     "name": "stdout",
     "output_type": "stream",
     "text": [
      "[MoviePy] >>>> Building video cossin.mp4\n",
      "[MoviePy] Writing video cossin.mp4\n"
     ]
    },
    {
     "name": "stderr",
     "output_type": "stream",
     "text": [
      "100%|███████████████████████████████████████████████████████████████████████████████| 478/478 [00:01<00:00, 457.82it/s]\n"
     ]
    },
    {
     "name": "stdout",
     "output_type": "stream",
     "text": [
      "[MoviePy] Done.\n",
      "[MoviePy] >>>> Video ready: cossin.mp4 \n",
      "\n"
     ]
    }
   ],
   "source": [
    "clip.write_videofile(\"cossin.mp4\", 100, audio=False)"
   ]
  },
  {
   "cell_type": "code",
   "execution_count": null,
   "metadata": {},
   "outputs": [],
   "source": []
  }
 ],
 "metadata": {
  "kernelspec": {
   "display_name": "Python [conda env:computer_vision]",
   "language": "python",
   "name": "conda-env-computer_vision-py"
  },
  "language_info": {
   "codemirror_mode": {
    "name": "ipython",
    "version": 3
   },
   "file_extension": ".py",
   "mimetype": "text/x-python",
   "name": "python",
   "nbconvert_exporter": "python",
   "pygments_lexer": "ipython3",
   "version": "3.6.7"
  }
 },
 "nbformat": 4,
 "nbformat_minor": 2
}
