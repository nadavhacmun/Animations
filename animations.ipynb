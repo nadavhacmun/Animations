{
 "cells": [
  {
   "cell_type": "code",
   "execution_count": 1,
   "metadata": {},
   "outputs": [],
   "source": [
    "import os\n",
    "import glob\n",
    "import time\n",
    "import numpy as np \n",
    "import cv2\n",
    "import matplotlib\n",
    "import matplotlib.pyplot as plt \n",
    "import matplotlib.image as mpimg\n",
    "from matplotlib.pyplot import figure\n",
    "from PIL import Image"
   ]
  },
  {
   "cell_type": "code",
   "execution_count": 2,
   "metadata": {},
   "outputs": [],
   "source": [
    "def get_closest(y, y_space):\n",
    "    if y < y_space[0] or y > y_space[-1]:\n",
    "        return None\n",
    "    _min = None\n",
    "    min_index = None\n",
    "    for index, y_ in enumerate(y_space):\n",
    "        if index == 0:\n",
    "            _min = np.abs(y_ - y)\n",
    "            min_index = index\n",
    "        else:\n",
    "            tmp = np.abs(y_ - y)\n",
    "            if _min > tmp:\n",
    "                _min = tmp\n",
    "                min_index = index\n",
    "    \n",
    "    return min_index"
   ]
  },
  {
   "cell_type": "code",
   "execution_count": 3,
   "metadata": {},
   "outputs": [],
   "source": [
    "def make_img(min_x, max_x, min_y, max_y, x_pixels, function):\n",
    "    dx = max_x - min_x\n",
    "    dy = max_y - min_y\n",
    "    \n",
    "    ratio = float(dx)/dy\n",
    "    \n",
    "    # init x space and y space\n",
    "    x_space = np.linspace(min_x, max_x, x_pixels)\n",
    "    y_space = np.linspace(min_y, max_y, int(x_pixels / ratio))\n",
    "    \n",
    "    # init img\n",
    "    img = np.zeros((len(y_space), len(x_space)), dtype=np.float32)\n",
    "    \n",
    "    for index, x in enumerate(x_space):\n",
    "        y = function(x)\n",
    "        img[len(y_space) - (1 + get_closest(y, y_space))][index] = 255\n",
    "    \n",
    "    return img"
   ]
  },
  {
   "cell_type": "code",
   "execution_count": 4,
   "metadata": {},
   "outputs": [
    {
     "ename": "TypeError",
     "evalue": "unsupported operand type(s) for +: 'int' and 'NoneType'",
     "output_type": "error",
     "traceback": [
      "\u001b[1;31m---------------------------------------------------------------------------\u001b[0m",
      "\u001b[1;31mTypeError\u001b[0m                                 Traceback (most recent call last)",
      "\u001b[1;32m<ipython-input-4-49e8f3cb2d9c>\u001b[0m in \u001b[0;36m<module>\u001b[1;34m\u001b[0m\n\u001b[1;32m----> 1\u001b[1;33m \u001b[0mimg\u001b[0m \u001b[1;33m=\u001b[0m \u001b[0mmake_img\u001b[0m\u001b[1;33m(\u001b[0m\u001b[1;33m-\u001b[0m\u001b[1;36m5\u001b[0m\u001b[1;33m,\u001b[0m \u001b[1;36m3\u001b[0m\u001b[1;33m,\u001b[0m \u001b[1;33m-\u001b[0m\u001b[1;36m7\u001b[0m\u001b[1;33m,\u001b[0m \u001b[1;36m5\u001b[0m\u001b[1;33m,\u001b[0m \u001b[1;36m600\u001b[0m\u001b[1;33m,\u001b[0m \u001b[1;32mlambda\u001b[0m \u001b[0mx\u001b[0m\u001b[1;33m:\u001b[0m \u001b[0mnp\u001b[0m\u001b[1;33m.\u001b[0m\u001b[0mexp\u001b[0m\u001b[1;33m(\u001b[0m\u001b[0mx\u001b[0m\u001b[1;33m)\u001b[0m\u001b[1;33m/\u001b[0m\u001b[0mnp\u001b[0m\u001b[1;33m.\u001b[0m\u001b[0msin\u001b[0m\u001b[1;33m(\u001b[0m\u001b[0mx\u001b[0m\u001b[1;33m)\u001b[0m\u001b[1;33m)\u001b[0m\u001b[1;33m\u001b[0m\u001b[1;33m\u001b[0m\u001b[0m\n\u001b[0m\u001b[0;32m      2\u001b[0m \u001b[0mplt\u001b[0m\u001b[1;33m.\u001b[0m\u001b[0mfigure\u001b[0m\u001b[1;33m(\u001b[0m\u001b[0mfigsize\u001b[0m\u001b[1;33m=\u001b[0m\u001b[1;33m(\u001b[0m\u001b[1;36m10\u001b[0m\u001b[1;33m,\u001b[0m \u001b[1;36m10\u001b[0m\u001b[1;33m)\u001b[0m\u001b[1;33m)\u001b[0m\u001b[1;33m\u001b[0m\u001b[1;33m\u001b[0m\u001b[0m\n\u001b[0;32m      3\u001b[0m \u001b[0mplt\u001b[0m\u001b[1;33m.\u001b[0m\u001b[0mimshow\u001b[0m\u001b[1;33m(\u001b[0m\u001b[0mimg\u001b[0m\u001b[1;33m,\u001b[0m \u001b[0mcmap\u001b[0m\u001b[1;33m=\u001b[0m\u001b[1;34m\"gray\"\u001b[0m\u001b[1;33m)\u001b[0m\u001b[1;33m\u001b[0m\u001b[1;33m\u001b[0m\u001b[0m\n",
      "\u001b[1;32m<ipython-input-3-aa9aa46d5452>\u001b[0m in \u001b[0;36mmake_img\u001b[1;34m(min_x, max_x, min_y, max_y, x_pixels, function)\u001b[0m\n\u001b[0;32m     14\u001b[0m     \u001b[1;32mfor\u001b[0m \u001b[0mindex\u001b[0m\u001b[1;33m,\u001b[0m \u001b[0mx\u001b[0m \u001b[1;32min\u001b[0m \u001b[0menumerate\u001b[0m\u001b[1;33m(\u001b[0m\u001b[0mx_space\u001b[0m\u001b[1;33m)\u001b[0m\u001b[1;33m:\u001b[0m\u001b[1;33m\u001b[0m\u001b[1;33m\u001b[0m\u001b[0m\n\u001b[0;32m     15\u001b[0m         \u001b[0my\u001b[0m \u001b[1;33m=\u001b[0m \u001b[0mfunction\u001b[0m\u001b[1;33m(\u001b[0m\u001b[0mx\u001b[0m\u001b[1;33m)\u001b[0m\u001b[1;33m\u001b[0m\u001b[1;33m\u001b[0m\u001b[0m\n\u001b[1;32m---> 16\u001b[1;33m         \u001b[0mimg\u001b[0m\u001b[1;33m[\u001b[0m\u001b[0mlen\u001b[0m\u001b[1;33m(\u001b[0m\u001b[0my_space\u001b[0m\u001b[1;33m)\u001b[0m \u001b[1;33m-\u001b[0m \u001b[1;33m(\u001b[0m\u001b[1;36m1\u001b[0m \u001b[1;33m+\u001b[0m \u001b[0mget_closest\u001b[0m\u001b[1;33m(\u001b[0m\u001b[0my\u001b[0m\u001b[1;33m,\u001b[0m \u001b[0my_space\u001b[0m\u001b[1;33m)\u001b[0m\u001b[1;33m)\u001b[0m\u001b[1;33m]\u001b[0m\u001b[1;33m[\u001b[0m\u001b[0mindex\u001b[0m\u001b[1;33m]\u001b[0m \u001b[1;33m=\u001b[0m \u001b[1;36m255\u001b[0m\u001b[1;33m\u001b[0m\u001b[1;33m\u001b[0m\u001b[0m\n\u001b[0m\u001b[0;32m     17\u001b[0m \u001b[1;33m\u001b[0m\u001b[0m\n\u001b[0;32m     18\u001b[0m     \u001b[1;32mreturn\u001b[0m \u001b[0mimg\u001b[0m\u001b[1;33m\u001b[0m\u001b[1;33m\u001b[0m\u001b[0m\n",
      "\u001b[1;31mTypeError\u001b[0m: unsupported operand type(s) for +: 'int' and 'NoneType'"
     ]
    }
   ],
   "source": [
    "img = make_img(-5, 3, -7, 5, 600, lambda x: np.exp(x)/np.sin(x))\n",
    "plt.figure(figsize=(10, 10))\n",
    "plt.imshow(img, cmap=\"gray\")"
   ]
  },
  {
   "cell_type": "code",
   "execution_count": 48,
   "metadata": {},
   "outputs": [],
   "source": [
    "save_img(img, \"tanh\")"
   ]
  },
  {
   "cell_type": "markdown",
   "metadata": {},
   "source": [
    "## Making animations of graphs\n",
    "___"
   ]
  },
  {
   "cell_type": "code",
   "execution_count": 4,
   "metadata": {},
   "outputs": [],
   "source": [
    "import moviepy.editor as mvpy"
   ]
  },
  {
   "cell_type": "code",
   "execution_count": 5,
   "metadata": {},
   "outputs": [],
   "source": [
    "def FunctionList(min_x, max_x, min_y, max_y, x_pixels, function, mod=1, width=1):\n",
    "    dx = max_x - min_x\n",
    "    dy = max_y - min_y\n",
    "    \n",
    "    ratio = float(dx)/dy\n",
    "    \n",
    "    # init x space and y space\n",
    "    x_space = np.linspace(min_x, max_x, x_pixels)\n",
    "    y_space = np.linspace(min_y, max_y, int(x_pixels / ratio))\n",
    "    \n",
    "    # init img\n",
    "    img = np.zeros((len(y_space), len(x_space)), dtype=np.int32)\n",
    "    \n",
    "    order = [] # list to keep track of order of images in the video we will create\n",
    "    x_prev = None\n",
    "    y_prev = None\n",
    "    x_space_len = len(x_space)-1\n",
    "    for index, x in enumerate(x_space):\n",
    "        y = function(x) \n",
    "    \n",
    "        if (index != 0) and (index!=x_space_len):\n",
    "            closest = get_closest(y, y_space)\n",
    "            closest_prev = get_closest(y_prev, y_space)\n",
    "            if closest!=None and closest_prev!=None:\n",
    "                y_index = len(y_space) - (1 + closest)\n",
    "                y_index_prev = len(y_space) - (1 + closest_prev)\n",
    "                cv2.line(img, (index-1, y_index_prev), (index, y_index), (255, 255, 255))\n",
    "        \n",
    "        if (index % mod) == 0: # take img every mod pixels\n",
    "            cv2.imwrite(\"./data/img-{}.jpg\".format(index), np.dstack([img, img, img])) # write image to folder\n",
    "            order.append(\"./data/img-{}.jpg\".format(index)) # add image name to order list\n",
    "        \n",
    "        x_prev = x\n",
    "        y_prev = y\n",
    "    \n",
    "    return order\n",
    "\n",
    "def FunctionListDotted(min_x, max_x, min_y, max_y, x_pixels, function, mod=1, width=1):\n",
    "    dx = max_x - min_x\n",
    "    dy = max_y - min_y\n",
    "    \n",
    "    ratio = float(dx)/dy\n",
    "    \n",
    "    # init x space and y space\n",
    "    x_space = np.linspace(min_x, max_x, x_pixels)\n",
    "    y_space = np.linspace(min_y, max_y, int(x_pixels / ratio))\n",
    "    \n",
    "    # init img\n",
    "    img = np.zeros((len(y_space), len(x_space)), dtype=np.int32)\n",
    "    \n",
    "    order = [] # list to keep track of order of images in the video we will create\n",
    "    for index, x in enumerate(x_space):\n",
    "        if (index % mod) == 0: # take img every mod pixels\n",
    "            y = function(x) \n",
    "            y_index = len(y_space) - (1 + get_closest(y, y_space))\n",
    "            bottom = y_index - width\n",
    "            top = y_index + width\n",
    "            if bottom < 0:\n",
    "                bottom = 0\n",
    "            if top > img.shape[0]:\n",
    "                top = img.shape[0]\n",
    "            img[bottom:top, index] = 255\n",
    "            cv2.imwrite(\"./data/img-{}.jpg\".format(index), np.dstack([img, img, img])) # write image to folder\n",
    "            order.append(\"./data/img-{}.jpg\".format(index)) # add image name to order list\n",
    "    \n",
    "    return order\n",
    "\n",
    "def makeGraphAnimation(min_x, max_x, min_y, max_y, x_pixels, function, fps, fname, mod, width):\n",
    "    d = []\n",
    "    order = FunctionList(min_x, max_x, min_y, max_y, x_pixels, function, mod, width)\n",
    "        \n",
    "    clip = mvpy.ImageSequenceClip(order, fps=fps) # make clip object\n",
    "    clip.write_videofile(fname, fps=fps) # write it to disk\n",
    "    \n",
    "def emptyDir(pathToDir, fileType=\"*\"):\n",
    "    for path in glob.glob(\"{}/{}\".format(pathToDir, fileType)):\n",
    "        os.unlink(path)"
   ]
  },
  {
   "cell_type": "code",
   "execution_count": 29,
   "metadata": {},
   "outputs": [
    {
     "name": "stdout",
     "output_type": "stream",
     "text": [
      "Moviepy - Building video wave2.mp4.\n",
      "Moviepy - Writing video wave2.mp4\n",
      "\n"
     ]
    },
    {
     "name": "stderr",
     "output_type": "stream",
     "text": []
    },
    {
     "name": "stdout",
     "output_type": "stream",
     "text": [
      "Moviepy - Done !\n",
      "Moviepy - video ready wave2.mp4\n"
     ]
    }
   ],
   "source": [
    "makeGraphAnimation(-10, 10, -3, 3, 6000, lambda x: np.cos(x*3 - 2)*np.sin(x/2 + 1.2)*np.cos(x*1.2-0.5), 150, \"wave2.mp4\", 3, 0)"
   ]
  },
  {
   "cell_type": "markdown",
   "metadata": {},
   "source": [
    "## Making animations with respect to time\n",
    "___"
   ]
  },
  {
   "cell_type": "code",
   "execution_count": 25,
   "metadata": {},
   "outputs": [],
   "source": [
    "def getX(radius, angle):\n",
    "    return np.cos(angle)*radius\n",
    "\n",
    "def getY(radius, angle):\n",
    "    return np.sin(angle)*radius\n",
    "\n",
    "def timeImageMakerPolar(width, height, radius_function, angle_function, time, fps, mod):\n",
    "    img = np.zeros((width, height), dtype=np.int32)\n",
    "    order = []\n",
    "    \n",
    "    frames = int(fps*time)\n",
    "    t_space = np.linspace(0, time, frames)\n",
    "    center_x = int(width/2)\n",
    "    center_y = int(height/2)\n",
    "    prev_x, prev_y = None, None\n",
    "    for index, t in enumerate(t_space):\n",
    "        r_t = radius_function(t)\n",
    "        a_t = angle_function(t)\n",
    "        x_t = getX(r_t, a_t)\n",
    "        y_t = getY(r_t, a_t)\n",
    "        if prev_x != None and prev_y != None and (index % mod) == 0:\n",
    "            cv2.line(img, (int(prev_x + center_x), int(prev_y + center_y)), (int(x_t + center_x), int(y_t + center_y)), (255, 255, 255))\n",
    "            cv2.imwrite(\"./data/img-{}.jpg\".format(index), np.dstack([img, img, img]))\n",
    "            order.append(\"./data/img-{}.jpg\".format(index))\n",
    "        prev_x = x_t\n",
    "        prev_y = y_t\n",
    "    \n",
    "    return order\n",
    "\n",
    "def timeImageMakerCart(width, height, X_function, Y_function, time, fps, mod):\n",
    "    img = np.zeros((width, height), dtype=np.int32)\n",
    "    order = []\n",
    "    \n",
    "    frames = int(fps*time)\n",
    "    t_space = np.linspace(0, time, frames)\n",
    "    center_x = int(width/2)\n",
    "    center_y = int(height/2)\n",
    "    prev_x, prev_y = None, None\n",
    "    for index, t in enumerate(t_space):\n",
    "        x_t = X_function(t)\n",
    "        y_t = Y_function(t)\n",
    "        if prev_x != None and prev_y != None and (index % mod) == 0:\n",
    "            cv2.line(img, (int(prev_x + center_x), int(prev_y + center_y)), (int(x_t + center_x), int(y_t + center_y)), (255, 255, 255))\n",
    "            cv2.imwrite(\"./data/img-{}.jpg\".format(index), np.dstack([img, img, img]))\n",
    "            order.append(\"./data/img-{}.jpg\".format(index))\n",
    "        prev_x = x_t\n",
    "        prev_y = y_t\n",
    "    \n",
    "    return order\n",
    "\n",
    "def timeImageMakerFourier(width, height, radius_function, T, time, fps, mod):\n",
    "    img = np.zeros((width, height), dtype=np.int32)\n",
    "    order = []\n",
    "    \n",
    "    frames = int(fps*time)\n",
    "    t_space = np.linspace(0, time, frames)\n",
    "    center_x = int(width/2)\n",
    "    center_y = int(height/2)\n",
    "    prev_x, prev_y = None, None\n",
    "    for index, t in enumerate(t_space):\n",
    "        r_t = radius_function(t)\n",
    "        a_t = 2*t*np.pi/T\n",
    "        x_t = getX(r_t, a_t)\n",
    "        y_t = getY(r_t, a_t)\n",
    "        if prev_x != None and prev_y != None and (index % mod) == 0:\n",
    "            cv2.line(img, (int(prev_x + center_x), int(prev_y + center_y)), (int(x_t + center_x), int(y_t + center_y)), (255, 255, 255))\n",
    "            cv2.imwrite(\"./data/img-{}.jpg\".format(index), np.dstack([img, img, img]))\n",
    "            order.append(\"./data/img-{}.jpg\".format(index))\n",
    "        prev_x = x_t\n",
    "        prev_y = y_t\n",
    "    \n",
    "    return order\n",
    "    \n",
    "def timeAnimation(width, height, radius_function, angle_function, time, fps, mod, fname):\n",
    "    #order = timeImageMaker(width, height, radius_function, angle_function, time, fps, mod)\n",
    "    order = timeImageMakerFourier(width, height, radius_function, 2.3, time, fps, mod)\n",
    "    \n",
    "    clip = mvpy.ImageSequenceClip(order, fps=fps)\n",
    "\n",
    "    clip.write_videofile(fname, fps=fps)"
   ]
  },
  {
   "cell_type": "code",
   "execution_count": 27,
   "metadata": {},
   "outputs": [
    {
     "name": "stdout",
     "output_type": "stream",
     "text": [
      "Moviepy - Building video fourier.mp4.\n",
      "Moviepy - Writing video fourier.mp4\n",
      "\n"
     ]
    },
    {
     "name": "stderr",
     "output_type": "stream",
     "text": []
    },
    {
     "name": "stdout",
     "output_type": "stream",
     "text": [
      "Moviepy - Done !\n",
      "Moviepy - video ready fourier.mp4\n"
     ]
    }
   ],
   "source": [
    "timeAnimation(1000, 1000, lambda x: 350*np.sin(x)*np.cos(3*x -4), lambda x: x*0.6, 30, 150, 1, \"fourier.mp4\")"
   ]
  }
 ],
 "metadata": {
  "kernelspec": {
   "display_name": "Python [conda env:computer_vision]",
   "language": "python",
   "name": "conda-env-computer_vision-py"
  },
  "language_info": {
   "codemirror_mode": {
    "name": "ipython",
    "version": 3
   },
   "file_extension": ".py",
   "mimetype": "text/x-python",
   "name": "python",
   "nbconvert_exporter": "python",
   "pygments_lexer": "ipython3",
   "version": "3.6.7"
  }
 },
 "nbformat": 4,
 "nbformat_minor": 2
}
