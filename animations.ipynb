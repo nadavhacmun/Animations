{
 "cells": [
  {
   "cell_type": "code",
   "execution_count": 1,
   "metadata": {},
   "outputs": [],
   "source": [
    "import os\n",
    "import argparse\n",
    "import glob\n",
    "import time\n",
    "import cv2\n",
    "import matplotlib\n",
    "import numpy as np \n",
    "import matplotlib.pyplot as plt \n",
    "import matplotlib.image as mpimg\n",
    "from matplotlib.pyplot import figure\n",
    "from PIL import Image"
   ]
  },
  {
   "cell_type": "code",
   "execution_count": 2,
   "metadata": {},
   "outputs": [],
   "source": [
    "def get_closestBS(y, y_space):\n",
    "    if y < y_space[0] or y > y_space[-1]: # if y out of bounds of image return None\n",
    "        return None\n",
    "    \n",
    "    low = 0\n",
    "    high = len(y_space) - 1\n",
    "    middle = int((low + high) / 2)\n",
    "    while (low <= high):\n",
    "        middle = int((low + high) / 2)\n",
    "        _min = abs(y_space[middle] - y)\n",
    "        \n",
    "        if middle - 1 >= 0 and middle + 1 <= len(y_space) - 1:\n",
    "            if abs(y_space[middle - 1] - y) < _min: # left case\n",
    "                high = middle - 1\n",
    "            \n",
    "            elif abs(y_space[middle + 1] - y) < _min: # right case\n",
    "                low = middle + 1\n",
    "        \n",
    "            else:\n",
    "                return middle\n",
    "            \n",
    "        elif middle - 1 >= 0:\n",
    "            if abs(y_space[middle - 1] - y) < _min: # left case\n",
    "                high = middle - 1\n",
    "            \n",
    "            else:\n",
    "                return middle\n",
    "            \n",
    "        elif middle + 1 <= len(y_space) - 1:\n",
    "            if abs(y_space[middle + 1] - y) < _min: # right case\n",
    "                low = middle + 1\n",
    "        \n",
    "            else:\n",
    "                return middle\n",
    "            \n",
    "    return middle"
   ]
  },
  {
   "cell_type": "code",
   "execution_count": 3,
   "metadata": {},
   "outputs": [],
   "source": [
    "def make_img(min_x, max_x, min_y, max_y, x_pixels, function):\n",
    "    dx = max_x - min_x\n",
    "    dy = max_y - min_y\n",
    "    \n",
    "    ratio = float(dx)/dy\n",
    "    \n",
    "    # init x space and y space\n",
    "    x_space = np.linspace(min_x, max_x, x_pixels)\n",
    "    y_space = np.linspace(min_y, max_y, int(x_pixels / ratio))\n",
    "    \n",
    "    # init img\n",
    "    img = np.zeros((len(y_space), len(x_space)), dtype=np.float32)\n",
    "    \n",
    "    for index, x in enumerate(x_space):\n",
    "        y = function(x)\n",
    "        closest = get_closestBS(y, y_space)\n",
    "        if closest != None:\n",
    "            y_index = len(y_space) - (1 + closest)\n",
    "            img[y_index][index] = 255\n",
    "    \n",
    "    return img"
   ]
  },
  {
   "cell_type": "markdown",
   "metadata": {},
   "source": [
    "## Making animations of graphs\n",
    "___"
   ]
  },
  {
   "cell_type": "code",
   "execution_count": 4,
   "metadata": {},
   "outputs": [],
   "source": [
    "import moviepy.editor as mvpy"
   ]
  },
  {
   "cell_type": "code",
   "execution_count": 5,
   "metadata": {},
   "outputs": [],
   "source": [
    "def FunctionList(min_x, max_x, min_y, max_y, x_pixels, function, mod=1, width=1):\n",
    "    dx = max_x - min_x\n",
    "    dy = max_y - min_y\n",
    "    \n",
    "    ratio = float(dx)/dy\n",
    "    \n",
    "    # init x space and y space\n",
    "    x_space = np.linspace(min_x, max_x, x_pixels)\n",
    "    y_space = np.linspace(min_y, max_y, int(x_pixels / ratio))\n",
    "    \n",
    "    # init img\n",
    "    img = np.zeros((len(y_space), len(x_space)), dtype=np.int32)\n",
    "    \n",
    "    order = [] # list to keep track of order of images in the video we will create\n",
    "    x_prev = None\n",
    "    y_prev = None\n",
    "    x_space_len = len(x_space)-1\n",
    "    for index, x in enumerate(x_space):\n",
    "        y = function(x) \n",
    "    \n",
    "        if (index != 0) and (index!=x_space_len):\n",
    "            closest = get_closestBS(y, y_space)\n",
    "            closest_prev = get_closestBS(y_prev, y_space)\n",
    "            if closest!=None and closest_prev!=None:\n",
    "                y_index = len(y_space) - (1 + closest)\n",
    "                y_index_prev = len(y_space) - (1 + closest_prev)\n",
    "                cv2.line(img, (index-1, y_index_prev), (index, y_index), (255, 255, 255))\n",
    "        \n",
    "        if (index % mod) == 0: # take img every mod pixels\n",
    "            cv2.imwrite(\"./data/img-{}.jpg\".format(index), np.dstack([img, img, img])) # write image to folder\n",
    "            order.append(\"./data/img-{}.jpg\".format(index)) # add image name to order list\n",
    "        \n",
    "        x_prev = x\n",
    "        y_prev = y\n",
    "    \n",
    "    return order\n",
    "\n",
    "def FunctionListDotted(min_x, max_x, min_y, max_y, x_pixels, function, mod=1, width=1):\n",
    "    dx = max_x - min_x\n",
    "    dy = max_y - min_y\n",
    "    \n",
    "    ratio = float(dx)/dy\n",
    "    \n",
    "    # init x space and y space\n",
    "    x_space = np.linspace(min_x, max_x, x_pixels)\n",
    "    y_space = np.linspace(min_y, max_y, int(x_pixels / ratio))\n",
    "    \n",
    "    # init img\n",
    "    img = np.zeros((len(y_space), len(x_space)), dtype=np.int32)\n",
    "    \n",
    "    order = [] # list to keep track of order of images in the video we will create\n",
    "    for index, x in enumerate(x_space):\n",
    "        if (index % mod) == 0: # take img every mod pixels\n",
    "            y = function(x) \n",
    "            y_index = len(y_space) - (1 + get_closest(y, y_space))\n",
    "            bottom = y_index - width\n",
    "            top = y_index + width\n",
    "            if bottom < 0:\n",
    "                bottom = 0\n",
    "            if top > img.shape[0]:\n",
    "                top = img.shape[0]\n",
    "            img[bottom:top, index] = 255\n",
    "            cv2.imwrite(\"./data/img-{}.jpg\".format(index), np.dstack([img, img, img])) # write image to folder\n",
    "            order.append(\"./data/img-{}.jpg\".format(index)) # add image name to order list\n",
    "    \n",
    "    return order\n",
    "\n",
    "def makeGraphAnimation(min_x, max_x, min_y, max_y, x_pixels, function, fps, fname, mod, width):\n",
    "    d = []\n",
    "    order = FunctionList(min_x, max_x, min_y, max_y, x_pixels, function, mod, width)\n",
    "        \n",
    "    clip = mvpy.ImageSequenceClip(order, fps=fps) # make clip object\n",
    "    clip.write_videofile(fname, fps=fps) # write it to disk\n",
    "    \n",
    "def emptyDir(pathToDir, fileType=\"*\"):\n",
    "    for path in glob.glob(\"{}/{}\".format(pathToDir, fileType)):\n",
    "        os.unlink(path)"
   ]
  },
  {
   "cell_type": "code",
   "execution_count": 6,
   "metadata": {},
   "outputs": [],
   "source": [
    "def makeGraphAnimation_multi(min_x, max_x, min_y, max_y, x_pixels, function, fps, fname, mod, width, color):\n",
    "    d = []\n",
    "    order = FunctionList_multi(min_x, max_x, min_y, max_y, x_pixels, function, mod, width, color)\n",
    "        \n",
    "    clip = mvpy.ImageSequenceClip(order, fps=fps) # make clip object\n",
    "    clip.write_videofile(fname, fps=fps) # write it to disk\n",
    "    \n",
    "def FunctionList_multi(min_x, max_x, min_y, max_y, x_pixels, function, mod, width, color):\n",
    "    dx = max_x - min_x\n",
    "    dy = max_y - min_y\n",
    "    \n",
    "    ratio = float(dx)/dy\n",
    "    \n",
    "    # init x space and y space\n",
    "    x_space = np.linspace(min_x, max_x, x_pixels)\n",
    "    y_space = np.linspace(min_y, max_y, int(x_pixels / ratio))\n",
    "    \n",
    "    # init img\n",
    "    img = np.zeros((len(y_space), len(x_space), 3), dtype=np.int32)\n",
    "    \n",
    "    order = [] # list to keep track of order of images in the video we will create\n",
    "    x_prev = np.zeros(len(color))\n",
    "    y_prev = np.zeros(len(color))\n",
    "    x_space_len = len(x_space)-1\n",
    "    for index, x in enumerate(x_space):\n",
    "        for index2, tup in enumerate(zip(function, color)):\n",
    "            function_, color_ = tup\n",
    "            y = function_(x) \n",
    "\n",
    "            if (index != 0) and (index!=x_space_len):\n",
    "                closest = get_closestBS(y, y_space)\n",
    "                closest_prev = get_closestBS(y_prev[index2], y_space)\n",
    "                if closest!=None and closest_prev!=None:\n",
    "                    y_index = len(y_space) - (1 + closest)\n",
    "                    y_index_prev = len(y_space) - (1 + closest_prev)\n",
    "                    cv2.line(img, (index-1, y_index_prev), (index, y_index), color_)\n",
    "\n",
    "            if (index % mod) == 0: # take img every mod pixels\n",
    "                cv2.imwrite(\"./data/img-{}.jpg\".format(index), img) # write image to folder\n",
    "                order.append(\"./data/img-{}.jpg\".format(index)) # add image name to order list\n",
    "\n",
    "            x_prev[index2] = x\n",
    "            y_prev[index2] = y\n",
    "    \n",
    "    return order"
   ]
  },
  {
   "cell_type": "code",
   "execution_count": 47,
   "metadata": {},
   "outputs": [
    {
     "name": "stdout",
     "output_type": "stream",
     "text": [
      "Moviepy - Building video doublewave.mp4.\n",
      "Moviepy - Writing video doublewave.mp4\n",
      "\n"
     ]
    },
    {
     "name": "stderr",
     "output_type": "stream",
     "text": []
    },
    {
     "name": "stdout",
     "output_type": "stream",
     "text": [
      "Moviepy - Done !\n",
      "Moviepy - video ready doublewave.mp4\n"
     ]
    }
   ],
   "source": [
    "makeGraphAnimation_multi(-2, 2, -1.1, 1.1, 3000, [lambda x: np.sin(x), lambda x: np.cos(x)], 100, \"doublewave.mp4\", [(40, 130, 255), (255, 130, 40)], 1, 0)"
   ]
  },
  {
   "cell_type": "markdown",
   "metadata": {},
   "source": [
    "## Making animations of parametric functions\n",
    "___"
   ]
  },
  {
   "cell_type": "code",
   "execution_count": 7,
   "metadata": {},
   "outputs": [],
   "source": [
    "def getX(radius, angle):\n",
    "    return np.cos(angle)*radius\n",
    "\n",
    "def getY(radius, angle):\n",
    "    return np.sin(angle)*radius\n",
    "\n",
    "def timeImageMakerPolar(width, height, radius_function, angle_function, time, fps, mod):\n",
    "    img = np.zeros((width, height), dtype=np.int32)\n",
    "    order = []\n",
    "    \n",
    "    frames = int(fps*time)\n",
    "    t_space = np.linspace(0, time, frames)\n",
    "    center_x = int(width/2)\n",
    "    center_y = int(height/2)\n",
    "    prev_x, prev_y = None, None\n",
    "    for index, t in enumerate(t_space):\n",
    "        r_t = radius_function(t)\n",
    "        a_t = angle_function(t)\n",
    "        x_t = getX(r_t, a_t)\n",
    "        y_t = getY(r_t, a_t)\n",
    "        if prev_x != None and prev_y != None and (index % mod) == 0:\n",
    "            cv2.line(img, (int(prev_x + center_x), int(prev_y + center_y)), (int(x_t + center_x), int(y_t + center_y)), (255, 255, 255))\n",
    "            cv2.imwrite(\"./data/img-{}.jpg\".format(index), np.dstack([img, img, img]))\n",
    "            order.append(\"./data/img-{}.jpg\".format(index))\n",
    "        prev_x = x_t\n",
    "        prev_y = y_t\n",
    "    \n",
    "    return order\n",
    "\n",
    "def timeImageMakerCart(width, height, X_function, Y_function, time, fps, mod):\n",
    "    img = np.zeros((width, height), dtype=np.int32)\n",
    "    order = []\n",
    "    \n",
    "    frames = int(fps*time)\n",
    "    t_space = np.linspace(0, time, frames)\n",
    "    center_x = int(width/2)\n",
    "    center_y = int(height/2)\n",
    "    prev_x, prev_y = None, None\n",
    "    for index, t in enumerate(t_space):\n",
    "        x_t = X_function(t)\n",
    "        y_t = Y_function(t)\n",
    "        if prev_x != None and prev_y != None and (index % mod) == 0:\n",
    "            cv2.line(img, (int(prev_x + center_x), int(prev_y + center_y)), (int(x_t + center_x), int(y_t + center_y)), (255, 255, 255))\n",
    "            cv2.imwrite(\"./data/img-{}.jpg\".format(index), np.dstack([img, img, img]))\n",
    "            order.append(\"./data/img-{}.jpg\".format(index))\n",
    "        prev_x = x_t\n",
    "        prev_y = y_t\n",
    "    \n",
    "    return order\n",
    "\n",
    "def timeImageMakerFourier(width, height, radius_function, T, time, fps, mod):\n",
    "    img = np.zeros((width, height), dtype=np.int32)\n",
    "    order = []\n",
    "    \n",
    "    frames = int(fps*time)\n",
    "    t_space = np.linspace(0, time, frames)\n",
    "    center_x = int(width/2)\n",
    "    center_y = int(height/2)\n",
    "    prev_x, prev_y = None, None\n",
    "    for index, t in enumerate(t_space):\n",
    "        r_t = radius_function(t)\n",
    "        a_t = 2*t*np.pi/T\n",
    "        x_t = getX(r_t, a_t)\n",
    "        y_t = getY(r_t, a_t)\n",
    "        if prev_x != None and prev_y != None and (index % mod) == 0:\n",
    "            cv2.line(img, (int(prev_x + center_x), int(prev_y + center_y)), (int(x_t + center_x), int(y_t + center_y)), (255, 255, 255))\n",
    "            cv2.imwrite(\"./data/img-{}.jpg\".format(index), np.dstack([img, img, img]))\n",
    "            order.append(\"./data/img-{}.jpg\".format(index))\n",
    "        prev_x = x_t\n",
    "        prev_y = y_t\n",
    "    \n",
    "    return order\n",
    "    \n",
    "def timeAnimation(width, height, radius_function, angle_function, time, fps, mod, fname):\n",
    "    #order = timeImageMaker(width, height, radius_function, angle_function, time, fps, mod)\n",
    "    order = timeImageMakerFourier(width, height, radius_function, 2.3, time, fps, mod)\n",
    "    \n",
    "    clip = mvpy.ImageSequenceClip(order, fps=fps)\n",
    "\n",
    "    clip.write_videofile(fname, fps=fps)"
   ]
  },
  {
   "cell_type": "code",
   "execution_count": 27,
   "metadata": {},
   "outputs": [
    {
     "name": "stdout",
     "output_type": "stream",
     "text": [
      "Moviepy - Building video fourier.mp4.\n",
      "Moviepy - Writing video fourier.mp4\n",
      "\n"
     ]
    },
    {
     "name": "stderr",
     "output_type": "stream",
     "text": []
    },
    {
     "name": "stdout",
     "output_type": "stream",
     "text": [
      "Moviepy - Done !\n",
      "Moviepy - video ready fourier.mp4\n"
     ]
    }
   ],
   "source": [
    "timeAnimation(1000, 1000, lambda x: 350*np.sin(x)*np.cos(3*x -4), lambda x: x*0.6, 30, 150, 1, \"fourier.mp4\")"
   ]
  },
  {
   "cell_type": "markdown",
   "metadata": {},
   "source": [
    "## Making animations of functions with a single parameter\n",
    "___"
   ]
  },
  {
   "cell_type": "code",
   "execution_count": 8,
   "metadata": {},
   "outputs": [],
   "source": [
    "def FunctionChange(min_x, max_x, min_y, max_y, x_pixels, function, p_min, p_max, fps, time, color):\n",
    "    order = []\n",
    "    p_space = np.linspace(p_min, p_max, int(time*fps))\n",
    "    for index, p in enumerate(p_space):\n",
    "        make_img_param(min_x, max_x, min_y, max_y, x_pixels, function, p, index, color)\n",
    "        order.append(\"./data/img-{}.jpg\".format(index))\n",
    "        \n",
    "    return order\n",
    "\n",
    "def Panimation(min_x, max_x, min_y, max_y, x_pixels, function, p_min, p_max, fps, fname, time, color=(255, 255, 255)):\n",
    "    order = FunctionChange(min_x, max_x, min_y, max_y, x_pixels, function, p_min, p_max, fps, time, color)\n",
    "    \n",
    "    clip = mvpy.ImageSequenceClip(order, fps=fps)\n",
    "    clip.write_videofile(fname, fps=fps)\n",
    "    \n",
    "    return clip"
   ]
  },
  {
   "cell_type": "code",
   "execution_count": 9,
   "metadata": {},
   "outputs": [],
   "source": [
    "def make_img_param(min_x, max_x, min_y, max_y, x_pixels, function, parameter, i, color):\n",
    "    dx = max_x - min_x\n",
    "    dy = max_y - min_y\n",
    "    \n",
    "    ratio = float(dx)/dy\n",
    "    \n",
    "    # init x space and y space\n",
    "    x_space = np.linspace(min_x, max_x, x_pixels)\n",
    "    y_space = np.linspace(min_y, max_y, int(x_pixels / ratio))\n",
    "    \n",
    "    # init img\n",
    "    img = np.zeros((len(y_space), len(x_space), 3), dtype=np.int32)\n",
    "    prev_x, prev_y = None, None\n",
    "    for index, x in enumerate(x_space):\n",
    "        y = function(parameter, x)\n",
    "        if (index != 0) and (index!=len(x_space)-1):\n",
    "                closest = get_closestBS(y, y_space)\n",
    "                closest_prev = get_closestBS(prev_y, y_space)\n",
    "                if closest!=None and closest_prev!=None:\n",
    "                    y_index = len(y_space) - (1 + closest)\n",
    "                    y_index_prev = len(y_space) - (1 + closest_prev)\n",
    "                    cv2.line(img, (index-1, y_index_prev), (index, y_index), color)\n",
    "        prev_x = x\n",
    "        prev_y = y\n",
    "        \n",
    "    cv2.imwrite(\"./data/img-{}.jpg\".format(i), img)\n",
    "    \n",
    "def make_img_param_multi(min_x, max_x, min_y, max_y, x_pixels, function, parameter, i, color):\n",
    "    assert len(function) == len(color)\n",
    "    \n",
    "    dx = max_x - min_x\n",
    "    dy = max_y - min_y\n",
    "    \n",
    "    ratio = float(dx)/dy\n",
    "    \n",
    "    # init x space and y space\n",
    "    x_space = np.linspace(min_x, max_x, x_pixels)\n",
    "    y_space = np.linspace(min_y, max_y, int(x_pixels / ratio))\n",
    "    \n",
    "    # init img\n",
    "    img = np.zeros((len(y_space), len(x_space), 3), dtype=np.int32)\n",
    "    prev_x, prev_y = np.zeros(len(color)), np.zeros(len(color))\n",
    "    for index, x in enumerate(x_space):\n",
    "        for index2, tup in enumerate(zip(function, color)):\n",
    "            function_, color_ = tup\n",
    "            y = function_(parameter, x)\n",
    "            if (index != 0) and (index!=len(x_space)-1):\n",
    "                    closest = get_closestBS(y, y_space)\n",
    "                    closest_prev = get_closestBS(prev_y[index2], y_space)\n",
    "                    if closest!=None and closest_prev!=None:\n",
    "                        y_index = len(y_space) - (1 + closest)\n",
    "                        y_index_prev = len(y_space) - (1 + closest_prev)\n",
    "                        cv2.line(img, (index-1, y_index_prev), (index, y_index), color_)\n",
    "            prev_x[index2] = x\n",
    "            prev_y[index2] = y\n",
    "        \n",
    "    cv2.imwrite(\"./data/img-{}.jpg\".format(i), img)"
   ]
  },
  {
   "cell_type": "code",
   "execution_count": 10,
   "metadata": {},
   "outputs": [],
   "source": [
    "def FunctionChange_multi(min_x, max_x, min_y, max_y, x_pixels, function, p_min, p_max, fps, time, color):\n",
    "    order = []\n",
    "    p_space = np.linspace(p_min, p_max, int(time*fps))\n",
    "    for index, p in enumerate(p_space):\n",
    "        make_img_param_multi(min_x, max_x, min_y, max_y, x_pixels, function, p, index, color)\n",
    "        order.append(\"./data/img-{}.jpg\".format(index))\n",
    "        \n",
    "    return order\n",
    "\n",
    "def Panimation_multi(min_x, max_x, min_y, max_y, x_pixels, function, p_min, p_max, fps, fname, time, color=(255, 255, 255)):\n",
    "    order = FunctionChange_multi(min_x, max_x, min_y, max_y, x_pixels, function, p_min, p_max, fps, time, color)\n",
    "    \n",
    "    clip = mvpy.ImageSequenceClip(order, fps=fps)\n",
    "    clip.write_videofile(fname, fps=fps)\n",
    "    \n",
    "    return clip"
   ]
  },
  {
   "cell_type": "code",
   "execution_count": 38,
   "metadata": {},
   "outputs": [
    {
     "name": "stdout",
     "output_type": "stream",
     "text": [
      "Moviepy - Building video parameter3.mp4.\n",
      "Moviepy - Writing video parameter3.mp4\n",
      "\n"
     ]
    },
    {
     "name": "stderr",
     "output_type": "stream",
     "text": []
    },
    {
     "name": "stdout",
     "output_type": "stream",
     "text": [
      "Moviepy - Done !\n",
      "Moviepy - video ready parameter3.mp4\n"
     ]
    }
   ],
   "source": [
    "clip = Panimation_multi(-6, 6, -6, 6, 1500, [lambda p, x: np.sin(p*x), lambda p, x: np.cos(p*x)], -5, 5, 150, \"parameter3.mp4\", 4, [(40, 130, 255), (255, 130, 40)])"
   ]
  },
  {
   "cell_type": "code",
   "execution_count": null,
   "metadata": {},
   "outputs": [],
   "source": [
    "makeGraphAnimation_multi(-2, 2, -4, 4, 1000, [lambda x: c[x], lambda x: d[x]], 150, \"polytest.mp4\", 1, 0, [(40, 130, 255), (255, 130, 40)])"
   ]
  },
  {
   "cell_type": "markdown",
   "metadata": {},
   "source": [
    "## Polynomial class \n",
    "___\n",
    "Represents a function, supports basic derivative operations. A polynomial object  $Z$ can be used in the lambda expression as a function in the following manner: `lambda x:`  $Z$`[x]`"
   ]
  },
  {
   "cell_type": "code",
   "execution_count": 11,
   "metadata": {},
   "outputs": [],
   "source": [
    "class Polynomial:\n",
    "    powers = {}\n",
    "    \n",
    "    def __init__(self, powers_):\n",
    "        self.powers = powers_\n",
    "        \n",
    "        for key, value in self.powers.items(): \n",
    "            type_ = type(self.powers[key])\n",
    "            if type_ != list:\n",
    "                self.powers[key] = [self.powers[key]]\n",
    "        \n",
    "    def AddPower(self, n, val):\n",
    "        if n in powers.keys():\n",
    "            self.powers[n] += val\n",
    "        else:\n",
    "            self.powers[n] = val\n",
    "            \n",
    "    def SetPower(self, n, val):\n",
    "        if n in self.powers.keys():\n",
    "            self.powers[n].append(val)\n",
    "        else:\n",
    "            self.powers[n] = [val]\n",
    "        \n",
    "    def getPower(self):\n",
    "        return self.powers\n",
    "        \n",
    "    def getPowerAt(self, n):\n",
    "        return self.powers[n]\n",
    "    \n",
    "    def GetDerivative(self):\n",
    "        der = Polynomial({})\n",
    "        for key in self.powers.keys():\n",
    "            if key != 0:\n",
    "                for value in self.powers[key]:\n",
    "                    if type(value) == int or type(value) == float:\n",
    "                        der.SetPower(key - 1, key*value)\n",
    "                    else:\n",
    "                        ### IF KEY == 1 THIS CAN BE MADE TO BE MORE EFFICIENT ###\n",
    "                        poly = Polynomial({key - 1: value})\n",
    "                        a = ConstPolynomial(poly, key)\n",
    "                        b = MulPolynomial(a, value.GetDerivative())\n",
    "                        der.SetPower(1, b)\n",
    "                \n",
    "        return der\n",
    "    \n",
    "    def GetIntegral(self):\n",
    "        integral = Polynomial({})\n",
    "        for key in self.powers.keys():\n",
    "            if key != -1 and key != 0:\n",
    "                for value in self.powers[key]:\n",
    "                    if type(value) == int or type(value) == float:\n",
    "                        der.SetPower(key + 1, value / key)\n",
    "                    else:\n",
    "                        bottom = Polynomial({-1 :value.GetIntegral()})\n",
    "                        bottom = ConstPolynomial(bottom, 1.0 / key)\n",
    "                        top = Polynomial({key + 1: value})\n",
    "                        mulpoly = MulPolynomial(bottom, top)\n",
    "                        der.SetPower(1, mul)\n",
    "            elif key != 0: # case when key is -1\n",
    "                pass\n",
    "            else: # case when key is 0\n",
    "                for value in self.powers[key]:\n",
    "                    integral.SetPower(1, value)\n",
    "    \n",
    "    def __mul__(self, other):\n",
    "        t = type(other)\n",
    "        assert t == int or t == float, \"Multiplication for this type is not supported\"\n",
    "        for key in self.powers.keys():\n",
    "                self.powers[key] *= other\n",
    "            \n",
    "        \n",
    "    def __rmul__(self, other):\n",
    "        return self * other\n",
    "    \n",
    "    def __getitem__(self, x):\n",
    "        sum_ = 0.0\n",
    "        for key in self.powers.keys():\n",
    "            for val in self.powers[key]:\n",
    "                if type(val) == int or type(val) == float:\n",
    "                    sum_ += val*x**key\n",
    "                else:   \n",
    "                    sum_ += val[x]**key\n",
    "        \n",
    "        return sum_\n",
    "    \n",
    "    def __str__(self):\n",
    "        toReturn = \"\"\n",
    "        ordered = sorted(self.powers.keys())\n",
    "        length = len(ordered)\n",
    "        for i in range(length):\n",
    "            key = ordered[length - (i + 1)]\n",
    "            if i == 0:\n",
    "                toReturn += str(self.powers[key]) + \"x^\" + str(key)\n",
    "            else:\n",
    "                toReturn += \" + \" + str(self.powers[key]) + \"x^\" + str(key)\n",
    "                \n",
    "        return toReturn"
   ]
  },
  {
   "cell_type": "code",
   "execution_count": 12,
   "metadata": {},
   "outputs": [],
   "source": [
    "class MulPolynomial:\n",
    "    polynomial1 = None\n",
    "    polynomial2 = None\n",
    "    \n",
    "    def __init__(self, poly1, poly2):\n",
    "        self.polynomial1 = poly1\n",
    "        self.polynomial2 = poly2\n",
    "        \n",
    "    def __getitem__(self, x):\n",
    "        return self.polynomial1[x] * self.polynomial2[x]\n",
    "    \n",
    "    def GetDerivative(self):\n",
    "        der1 = self.polynomial1.GetDerivative()\n",
    "        der2 = self.polynomial2.GetDerivative()\n",
    "        mul1 = MulPolynomial(self.polynomial1, der2)\n",
    "        mul2 = MulPolynomial(self.polynomial2, der1)\n",
    "        der = AddPolynomial(mul1, mul2)\n",
    "        \n",
    "        return der\n",
    "    \n",
    "    def GetIntegral(self):\n",
    "        \"\"\"TODO\n",
    "        ###IMPLEMENT INTEGRATION BY PARTS###\n",
    "        \"\"\"\n",
    "        return 0"
   ]
  },
  {
   "cell_type": "code",
   "execution_count": 13,
   "metadata": {},
   "outputs": [],
   "source": [
    "class AddPolynomial:\n",
    "    polynomial1 = None\n",
    "    polynomial2 = None\n",
    "    \n",
    "    def __init__(self, poly1, poly2):\n",
    "        self.polynomial1 = poly1\n",
    "        self.polynomial2 = poly2\n",
    "        \n",
    "    def __getitem__(self, x):\n",
    "        return self.polynomial1[x] + self.polynomial2[x]\n",
    "    \n",
    "    def GetDerivative(self):\n",
    "        der1 = self.polynomial1.GetDerivative()\n",
    "        der2 = self.polynomial2.GetDerivative()\n",
    "        der = AddPolynomial(der1, der2)\n",
    "        \n",
    "    def GetIntegral(self):\n",
    "        integral1 = self.polynomial1.GetIntegral()\n",
    "        integral2 = self.polynomial2.GetIntegral()\n",
    "        integral = AddPolynomial(integral1, integral2)\n",
    "        \n",
    "        return integral"
   ]
  },
  {
   "cell_type": "code",
   "execution_count": 14,
   "metadata": {},
   "outputs": [],
   "source": [
    "class ConstPolynomial:\n",
    "    polynomial = None\n",
    "    scaleBy = 1\n",
    "    \n",
    "    def __init__(self, poly, const):\n",
    "        self.polynomial = poly\n",
    "        self.scaleBy = const\n",
    "        \n",
    "    def __getitem__(self, x):\n",
    "        return self.scaleBy * self.polynomial[x]\n",
    "    \n",
    "    def GetDerivative(self):\n",
    "        return ConstPolynomial(self.polynomial.GetDerivative(), self.scaleBy)\n",
    "    \n",
    "    def GetIntegral(self):\n",
    "        return ConstPolynomial(self.polynomial.GetIntegral(), self.scaleBy)"
   ]
  },
  {
   "cell_type": "markdown",
   "metadata": {},
   "source": [
    "## Testing Polynomial classes \n",
    "Here I'm attempting to take the derivative of $2x\\sqrt{x^2 + 1}$ using the polynomial class. <br> \n",
    "The derivative is $\\frac{4x^2 + 2}{\\sqrt{x^2 + 1}}$, since this class doesn't store function the way we do, this check will be done through evaluation. <br>\n",
    "Here is a table of values for $f(x)$ and $f`(x)$.\n",
    "\n",
    "|$x$  | $f(x)$ | $f`(x)$ |\n",
    "|:------------- | :------------- | :------------- |\n",
    "|  1    | 2.828  | 4.242 |\n",
    "|  2    | 8.944  | 8.049 |\n",
    "|  3    | 18.973  | 12.016 |\n",
    "|  4    | 32.984  | 16.007 |\n",
    "\n",
    "In the next cell I will be constructing the function and getting it's derivative as well as testing how well it does on the samples above."
   ]
  },
  {
   "cell_type": "code",
   "execution_count": 29,
   "metadata": {},
   "outputs": [],
   "source": [
    "a = Polynomial({1: 2})\n",
    "b = Polynomial({2: 1, 0: 1})\n",
    "c = Polynomial({0.5: b})\n",
    "d = MulPolynomial(a, c) # d is the function\n",
    "e = d.GetDerivative() # e is it's derivative"
   ]
  },
  {
   "cell_type": "code",
   "execution_count": 30,
   "metadata": {},
   "outputs": [],
   "source": [
    "f = e.GetIntegral()"
   ]
  },
  {
   "cell_type": "code",
   "execution_count": 15,
   "metadata": {},
   "outputs": [
    {
     "name": "stdout",
     "output_type": "stream",
     "text": [
      "Testing function:  2.8284271247461903 8.94427190999916 18.973665961010276 32.984845004941285\n",
      "Testing derivative:  4.242640687119286 8.049844718999243 12.016655108639842 16.007351252397974\n"
     ]
    }
   ],
   "source": [
    "print(\"Testing function: \", d[1], d[2], d[3], d[4])\n",
    "print(\"Testing derivative: \", e[1], e[2], e[3], e[4])"
   ]
  },
  {
   "cell_type": "markdown",
   "metadata": {},
   "source": [
    "## Recursive trees\n",
    "---"
   ]
  },
  {
   "cell_type": "code",
   "execution_count": 125,
   "metadata": {},
   "outputs": [],
   "source": [
    "def RecursiveTreeHelper(img, X ,Y, angle, r, common_ratio, min_r, base_angle):\n",
    "    r = r*common_ratio\n",
    "    if r < min_r:\n",
    "        return\n",
    "    angle1 = angle + base_angle\n",
    "    angle2 = angle - base_angle\n",
    "    dx1 = int(r * np.sin(angle1))\n",
    "    dy1 = int(r * np.cos(angle1))\n",
    "    dx2 = int(r * np.sin(angle2))\n",
    "    dy2 = int(r * np.cos(angle2))\n",
    "    cv2.line(img, (X, Y), (X + dx1, Y - dy1), color=(255))\n",
    "    cv2.line(img, (X, Y), (X + dx2, Y - dy2), color=(255))\n",
    "    RecursiveTreeHelper(img, X + dx1, Y - dy1, angle1, r, common_ratio, min_r, base_angle)\n",
    "    RecursiveTreeHelper(img, X + dx2, Y - dy2, angle2, r, common_ratio, min_r, base_angle)\n",
    "\n",
    "def MakeRecursiveTree(width, height, angle, r, common_ratio, min_r, base_angle):\n",
    "    img = np.zeros((height, width))\n",
    "    cv2.line(img, (int(width/2), height), (int(width/2), height - r), color=(255))\n",
    "    RecursiveTreeHelper(img, int(width/2), height - r, angle, r, common_ratio, min_r, base_angle)\n",
    "    \n",
    "    return img"
   ]
  },
  {
   "cell_type": "code",
   "execution_count": 136,
   "metadata": {},
   "outputs": [],
   "source": [
    "img = MakeRecursiveTree(2000, 1000, 0, 200, 0.8, 10, 0.1*np.pi)"
   ]
  },
  {
   "cell_type": "code",
   "execution_count": 137,
   "metadata": {},
   "outputs": [
    {
     "data": {
      "text/plain": [
       "<matplotlib.image.AxesImage at 0x199d19d6c50>"
      ]
     },
     "execution_count": 137,
     "metadata": {},
     "output_type": "execute_result"
    },
    {
     "data": {
      "image/png": "[encoded data removed]",
      "text/plain": [
       "<Figure size 1800x1800 with 1 Axes>"
      ]
     },
     "metadata": {
      "needs_background": "light"
     },
     "output_type": "display_data"
    }
   ],
   "source": [
    "plt.figure(figsize=(25, 25))\n",
    "plt.imshow(img, cmap=\"gray\")"
   ]
  },
  {
   "cell_type": "code",
   "execution_count": null,
   "metadata": {},
   "outputs": [],
   "source": []
  }
 ],
 "metadata": {
  "kernelspec": {
   "display_name": "Python [conda env:computer_vision]",
   "language": "python",
   "name": "conda-env-computer_vision-py"
  },
  "language_info": {
   "codemirror_mode": {
    "name": "ipython",
    "version": 3
   },
   "file_extension": ".py",
   "mimetype": "text/x-python",
   "name": "python",
   "nbconvert_exporter": "python",
   "pygments_lexer": "ipython3",
   "version": "3.6.7"
  }
 },
 "nbformat": 4,
 "nbformat_minor": 2
}
